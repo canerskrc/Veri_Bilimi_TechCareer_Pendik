{
  "nbformat": 4,
  "nbformat_minor": 0,
  "metadata": {
    "colab": {
      "provenance": [],
      "authorship_tag": "ABX9TyNwDd+VR8fPomeojNfp9jxy",
      "include_colab_link": true
    },
    "kernelspec": {
      "name": "python3",
      "display_name": "Python 3"
    },
    "language_info": {
      "name": "python"
    }
  },
  "cells": [
    {
      "cell_type": "markdown",
      "metadata": {
        "id": "view-in-github",
        "colab_type": "text"
      },
      "source": [
        "<a href=\"https://colab.research.google.com/github/canerskrc/Veri_Bilimi_TechCareer_Pendik/blob/main/19_12_2024_Interview.ipynb\" target=\"_parent\"><img src=\"https://colab.research.google.com/assets/colab-badge.svg\" alt=\"Open In Colab\"/></a>"
      ]
    },
    {
      "cell_type": "markdown",
      "source": [
        "1- Array Manipulasyonu\n",
        "\n",
        "Bir array içerisinde toplamı belli bir değere eşit olan iki sayıyı bulun.\n",
        "\n",
        "- Çözümde zaman karmaşıklığı O(n log n ) veya daha iyisi olmalı\n",
        "\n",
        "- örnek: [2,7,11,15] hedef = 9 çıktı = [0,1]  \n",
        "\n",
        "\n",
        "\n",
        "2- Stack impelemtasyonu yapın. bu stack içerisinde O(1) zamanda gerçekleşmesi lazım.\n",
        "\n",
        "- Eleman ekleme ( push )\n",
        "\n",
        "- Eleman çıkarma ( pop )\n",
        "\n",
        "- Stack içindeki minimum elemanı bulma ( getMin )\n",
        "\n",
        "\n",
        "\n",
        "\n",
        "3- Bir e ticaret firması Türkiye pazarında büyümeyi hedefliyor. Şirket müşteri davranışlarını analiz ederek satış verilerini artırmayı planlıyor. Elinizde 1 yıllık satış verisi, müşterinin demografik bilgileri ve ürün kategorileri bilgileri var. Şirket sizden ;\n",
        "\n",
        "- Eksik verilerle nasıl başa çıkarsın.\n",
        "- Metrikleri nasıl belirlersin.\n",
        "- Müşteri segmantasyonu nasıl yapılır.\n",
        "- Özellik seçimi ve boyut azaltma.\n",
        "- Makine öğrenmesinde tahmin modeli.\n",
        "- aşırı öğrenme\n",
        "- Mevsimsel kampanya\n",
        "- Veri kalitesi\n",
        "- KVKK uyumu\n",
        "- Önyargı analizi\n",
        "\n",
        "OAuth2(kimlik doğrulama)\n",
        "Veri transferi sırasında hashing( SHA-256 )\n",
        "\n",
        "- HTTP/HTTPS = web tabanlı uygulamalarda veri transferi için kullanılır.\n",
        "- MQTT = IoT cihazları arasında veri alışverişi\n",
        "- Websocket = Sunucu istemci arasında iki yönlü bağlantı sağlanır.Gerçek zamanlı veri varsa.\n",
        "- gRPC = Google Remote Procedure Call ) Mikroservisler arasında iletişim sağlar.\n",
        "- AMQP = E-ticarette çok sık kullanılır."
      ],
      "metadata": {
        "id": "CYiEJVS7hx3B"
      }
    }
  ]
}